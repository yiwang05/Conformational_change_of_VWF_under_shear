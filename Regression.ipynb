{
 "cells": [
  {
   "cell_type": "code",
   "execution_count": 12,
   "metadata": {},
   "outputs": [],
   "source": [
    "import math \n",
    "import matplotlib.pyplot as plt \n",
    "import pandas as pd\n",
    "import numpy as np\n",
    "\n",
    "from sklearn.linear_model import Lasso\n",
    "from sklearn.linear_model import LinearRegression\n",
    "from sklearn.datasets import load_breast_cancer\n",
    "from sklearn.model_selection import train_test_split"
   ]
  },
  {
   "cell_type": "code",
   "execution_count": 33,
   "metadata": {},
   "outputs": [],
   "source": [
    "a = pd.read_pickle('shear_rate_0k')\n",
    "a=a.sample(n = 40)\n",
    "b = pd.read_pickle('shear_rate_10k')\n",
    "b=b.sample(n = 40)\n",
    "c = pd.read_pickle('shear_rate_20k')\n",
    "c=c.sample(n = 40)\n",
    "d = pd.read_pickle('shear_rate_25k')\n",
    "d=d.sample(n = 40)\n",
    "e = pd.read_pickle('shear_rate_30k')\n",
    "e=e.sample(n = 40)\n",
    "f = pd.read_pickle('shear_rate_40k')\n",
    "f=f.sample(n = 40)\n",
    "g = pd.read_pickle('shear_rate_50k')\n",
    "g=g.sample(n = 40)\n",
    "h = pd.read_pickle('shear_rate_90k')\n",
    "h=h.sample(n = 40)\n",
    "X=a\n",
    "for i in [b,c,d,e,f,g,h]:\n",
    "    X=X.append(i)\n",
    "X = X.reset_index(drop=True)\n",
    "#print(X)"
   ]
  },
  {
   "cell_type": "code",
   "execution_count": 45,
   "metadata": {},
   "outputs": [],
   "source": [
    "a = pd.read_pickle('shear_rate_0k')\n",
    "a=a.sample(n = 296)\n",
    "b = pd.read_pickle('shear_rate_10k')\n",
    "b=b.sample(n = 296)\n",
    "e = pd.read_pickle('shear_rate_30k')\n",
    "e=e.sample(n = 296)\n",
    "f = pd.read_pickle('shear_rate_40k')\n",
    "f=f.sample(n = 296)\n",
    "g = pd.read_pickle('shear_rate_50k')\n",
    "g=g.sample(n = 296)\n",
    "h = pd.read_pickle('shear_rate_90k')\n",
    "h=h.sample(n = 296)\n",
    "X=a\n",
    "for i in [b,e,f,g,h]:\n",
    "    X=X.append(i)\n",
    "X = X.reset_index(drop=True)\n",
    "#print(X)"
   ]
  },
  {
   "cell_type": "code",
   "execution_count": 46,
   "metadata": {},
   "outputs": [
    {
     "name": "stdout",
     "output_type": "stream",
     "text": [
      "[    0.     0.     0. ... 90000. 90000. 90000.]\n",
      "      eccentricity  convex_area  major_axis_length  minor_axis_length  \\\n",
      "0         0.833223         76.0          12.803060           7.079283   \n",
      "1         0.919807         37.0          11.431946           4.485566   \n",
      "2         0.877758         33.0           8.937161           4.281828   \n",
      "3         0.910346         81.0          15.243025           6.308303   \n",
      "4         0.832684         93.0          14.387551           7.967074   \n",
      "5         0.934286         59.0          14.054362           5.010726   \n",
      "6         0.926639        226.0          26.405397           9.927139   \n",
      "7         0.877490         73.0          13.136695           6.300281   \n",
      "8         0.933458         78.0          16.251671           5.829247   \n",
      "9         0.832255        332.0          26.420877          14.647565   \n",
      "10        0.834302         50.0           9.874354           5.443813   \n",
      "11        0.820391        350.0          24.489790          14.003320   \n",
      "12        0.816584       1526.0          52.270030          30.171682   \n",
      "13        0.872873         48.0          11.482802           5.602995   \n",
      "14        0.951420        359.0          35.950011          11.068912   \n",
      "15        0.815462         23.0           6.832340           3.954633   \n",
      "16        0.891330         49.0          11.088283           5.026925   \n",
      "17        0.938401         38.0          11.505954           3.975862   \n",
      "18        0.844493         55.0          11.216375           6.007118   \n",
      "19        0.804630         29.0           7.706596           4.575996   \n",
      "20        0.825702         38.0           9.216189           5.198906   \n",
      "21        0.838745         71.0          12.244057           6.667192   \n",
      "22        0.869372         42.0           9.948040           4.915903   \n",
      "23        0.820325         49.0          10.253900           5.864175   \n",
      "24        0.892050         54.0          11.703435           5.289213   \n",
      "25        0.816889         34.0           8.288528           4.780779   \n",
      "26        0.899746         33.0           9.583854           4.182521   \n",
      "27        0.859961         47.0          10.460918           5.338839   \n",
      "28        0.882388        101.0          15.638103           7.358079   \n",
      "29        0.924636         67.0          14.512717           5.527202   \n",
      "...            ...          ...                ...                ...   \n",
      "1746      0.940290        103.0          18.578541           6.323673   \n",
      "1747      0.967240        278.0          35.574373           9.031014   \n",
      "1748      0.943291        168.0          24.631568           8.176890   \n",
      "1749      0.978283        446.0          50.921522          10.554807   \n",
      "1750      0.931043         46.0          12.160896           4.437635   \n",
      "1751      0.927176         80.0          16.233618           6.081547   \n",
      "1752      0.930865         33.0          10.483527           3.830296   \n",
      "1753      0.910950        202.0          22.587575           9.317759   \n",
      "1754      0.936771        113.0          19.549646           6.841248   \n",
      "1755      0.958880        351.0          36.819609          10.449792   \n",
      "1756      0.927685        366.0          35.555610          13.275143   \n",
      "1757      0.972760         24.0          10.977630           2.544753   \n",
      "1758      0.955105        120.0          21.167250           6.271147   \n",
      "1759      0.934037         45.0          12.237507           4.370937   \n",
      "1760      0.932391         76.0          15.208910           5.497281   \n",
      "1761      0.980229         78.0          20.666789           4.089271   \n",
      "1762      0.925773         81.0          15.898299           6.010843   \n",
      "1763      0.904320         30.0           9.253249           3.949807   \n",
      "1764      0.921282         22.0           8.572788           3.333919   \n",
      "1765      0.979164         90.0          22.795520           4.629121   \n",
      "1766      0.928445         55.0          13.168870           4.891835   \n",
      "1767      0.906053        129.0          18.637195           7.886577   \n",
      "1768      0.939407         48.0          12.952780           4.440247   \n",
      "1769      0.964670        125.0          23.153997           6.100159   \n",
      "1770      0.934610         72.0          15.705450           5.586016   \n",
      "1771      0.905212         76.0          14.983020           6.367178   \n",
      "1772      0.900543        286.0          28.408329          12.350974   \n",
      "1773      0.955212        116.0          21.605111           6.393410   \n",
      "1774      0.908934         89.0          16.936524           7.061522   \n",
      "1775      0.918654        191.0          23.204333           9.167154   \n",
      "\n",
      "      orientation  \n",
      "0        1.099340  \n",
      "1        0.870936  \n",
      "2       -0.009894  \n",
      "3        1.329621  \n",
      "4       -1.099183  \n",
      "5       -1.077064  \n",
      "6       -1.494797  \n",
      "7        0.168914  \n",
      "8        1.364151  \n",
      "9       -1.514956  \n",
      "10       1.450314  \n",
      "11       1.435425  \n",
      "12      -1.346762  \n",
      "13       1.024452  \n",
      "14      -1.477330  \n",
      "15       0.628190  \n",
      "16      -1.221513  \n",
      "17      -1.271045  \n",
      "18       1.514303  \n",
      "19       1.319698  \n",
      "20       1.537862  \n",
      "21       1.012368  \n",
      "22      -0.457085  \n",
      "23      -1.494853  \n",
      "24      -0.755514  \n",
      "25       1.534701  \n",
      "26      -1.500591  \n",
      "27       1.177719  \n",
      "28       1.497797  \n",
      "29      -1.420808  \n",
      "...           ...  \n",
      "1746    -1.424312  \n",
      "1747     1.537592  \n",
      "1748    -1.360310  \n",
      "1749    -1.379465  \n",
      "1750     1.478142  \n",
      "1751     1.458317  \n",
      "1752     1.533805  \n",
      "1753     1.396774  \n",
      "1754     1.485232  \n",
      "1755     1.440425  \n",
      "1756    -0.895374  \n",
      "1757    -1.537364  \n",
      "1758     1.393303  \n",
      "1759     1.504791  \n",
      "1760    -1.104014  \n",
      "1761    -1.415200  \n",
      "1762     1.347166  \n",
      "1763     1.211145  \n",
      "1764    -1.134033  \n",
      "1765    -1.443885  \n",
      "1766    -1.488609  \n",
      "1767     1.496015  \n",
      "1768     0.968112  \n",
      "1769     1.562233  \n",
      "1770     1.349388  \n",
      "1771     1.470452  \n",
      "1772    -0.104244  \n",
      "1773    -1.228934  \n",
      "1774     0.861049  \n",
      "1775    -0.988679  \n",
      "\n",
      "[1776 rows x 5 columns]\n"
     ]
    }
   ],
   "source": [
    "#X = pd.read_pickle('all_shear_rates')\n",
    "Y = X[['shear rate']].values.ravel()\n",
    "print(Y)\n",
    "X=X.drop(columns=['shear rate'])\n",
    "print(X)\n",
    "X_train,X_test,y_train,y_test=train_test_split(X,Y, test_size=0.3, random_state=31)"
   ]
  },
  {
   "cell_type": "code",
   "execution_count": 47,
   "metadata": {},
   "outputs": [
    {
     "name": "stdout",
     "output_type": "stream",
     "text": [
      "training score: 0.12432961641636153\n",
      "test score:  0.11946281425892213\n",
      "number of features used:  5\n"
     ]
    }
   ],
   "source": [
    "lasso = Lasso()\n",
    "lasso.fit(X_train,y_train)\n",
    "train_score=lasso.score(X_train,y_train)\n",
    "test_score=lasso.score(X_test,y_test)\n",
    "coeff_used = np.sum(lasso.coef_!=0)\n",
    "\n",
    "print(\"training score:\", train_score) \n",
    "print(\"test score: \", test_score)\n",
    "print (\"number of features used: \", coeff_used)"
   ]
  },
  {
   "cell_type": "code",
   "execution_count": 48,
   "metadata": {},
   "outputs": [
    {
     "name": "stdout",
     "output_type": "stream",
     "text": [
      "training score for alpha=0.01: 0.12433115838254838\n",
      "test score for alpha =0.01:  0.11945811385333804\n",
      "number of features used: for alpha =0.01: 5\n"
     ]
    }
   ],
   "source": [
    "lasso001 = Lasso(alpha=0.001, max_iter=10e5)\n",
    "lasso001.fit(X_train,y_train)\n",
    "train_score001=lasso001.score(X_train,y_train)\n",
    "test_score001=lasso001.score(X_test,y_test)\n",
    "coeff_used001 = np.sum(lasso001.coef_!=0)\n",
    "\n",
    "print( \"training score for alpha=0.01:\", train_score001 )\n",
    "print( \"test score for alpha =0.01: \", test_score001)\n",
    "print( \"number of features used: for alpha =0.01:\", coeff_used001)"
   ]
  },
  {
   "cell_type": "code",
   "execution_count": 49,
   "metadata": {},
   "outputs": [
    {
     "name": "stdout",
     "output_type": "stream",
     "text": [
      "LR training score: 0.12433115838409026\n",
      "LR test score:  0.11945810736005069\n"
     ]
    }
   ],
   "source": [
    "lr = LinearRegression()\n",
    "lr.fit(X_train,y_train)\n",
    "lr_train_score=lr.score(X_train,y_train)\n",
    "lr_test_score=lr.score(X_test,y_test)\n",
    "\n",
    "print( \"LR training score:\", lr_train_score )\n",
    "print( \"LR test score: \", lr_test_score)"
   ]
  },
  {
   "cell_type": "code",
   "execution_count": null,
   "metadata": {},
   "outputs": [],
   "source": []
  }
 ],
 "metadata": {
  "kernelspec": {
   "display_name": "Python 3",
   "language": "python",
   "name": "python3"
  },
  "language_info": {
   "codemirror_mode": {
    "name": "ipython",
    "version": 3
   },
   "file_extension": ".py",
   "mimetype": "text/x-python",
   "name": "python",
   "nbconvert_exporter": "python",
   "pygments_lexer": "ipython3",
   "version": "3.7.3"
  }
 },
 "nbformat": 4,
 "nbformat_minor": 2
}
