{
 "cells": [
  {
   "cell_type": "code",
   "execution_count": 1,
   "metadata": {},
   "outputs": [],
   "source": [
    "import math \n",
    "import matplotlib.pyplot as plt \n",
    "import pandas as pd\n",
    "import numpy as np\n",
    "\n",
    "from sklearn.linear_model import Lasso\n",
    "from sklearn.linear_model import LinearRegression\n",
    "from sklearn.datasets import load_breast_cancer\n",
    "from sklearn.model_selection import train_test_split"
   ]
  },
  {
   "cell_type": "code",
   "execution_count": 2,
   "metadata": {},
   "outputs": [],
   "source": [
    "a = pd.read_pickle('shear_rate_0k')\n",
    "b = pd.read_pickle('shear_rate_10k')\n",
    "c = pd.read_pickle('shear_rate_20k')\n",
    "d = pd.read_pickle('shear_rate_25k')\n",
    "e = pd.read_pickle('shear_rate_30k')\n",
    "f = pd.read_pickle('shear_rate_40k')\n",
    "g = pd.read_pickle('shear_rate_50k')\n",
    "h = pd.read_pickle('shear_rate_90k')\n",
    "X=a\n",
    "for i in [b,c,d,e,f,g,h]:\n",
    "    X=X.append(i)\n",
    "X = X.reset_index(drop=True)\n",
    "#print(X)"
   ]
  },
  {
   "cell_type": "code",
   "execution_count": 45,
   "metadata": {},
   "outputs": [],
   "source": [
    "a = pd.read_pickle('shear_rate_0k')\n",
    "a=a.sample(n = 296)\n",
    "b = pd.read_pickle('shear_rate_10k')\n",
    "b=b.sample(n = 296)\n",
    "e = pd.read_pickle('shear_rate_30k')\n",
    "e=e.sample(n = 296)\n",
    "f = pd.read_pickle('shear_rate_40k')\n",
    "f=f.sample(n = 296)\n",
    "g = pd.read_pickle('shear_rate_50k')\n",
    "g=g.sample(n = 296)\n",
    "h = pd.read_pickle('shear_rate_90k')\n",
    "h=h.sample(n = 296)\n",
    "X=a\n",
    "for i in [b,e,f,g,h]:\n",
    "    X=X.append(i)\n",
    "X = X.reset_index(drop=True)\n",
    "#print(X)"
   ]
  },
  {
   "cell_type": "code",
   "execution_count": 3,
   "metadata": {},
   "outputs": [
    {
     "name": "stdout",
     "output_type": "stream",
     "text": [
      "[    0.     0.     0. ... 90000. 90000. 90000.]\n",
      "      eccentricity  convex_area  major_axis_length  minor_axis_length  \\\n",
      "0         0.825802         31.0           8.134746           4.587675   \n",
      "1         0.805504         53.0          10.428318           6.179722   \n",
      "2         0.837421         28.0           7.793800           4.259762   \n",
      "3         0.802286         31.0           7.839319           4.679603   \n",
      "4         0.861723         31.0           8.306929           4.214755   \n",
      "5         0.892727         22.0           7.595454           3.422503   \n",
      "6         0.876329         44.0          10.282629           4.953271   \n",
      "7         0.891431         61.0          12.527890           5.677103   \n",
      "8         0.861284         40.0           9.533924           4.844416   \n",
      "9         0.832255        332.0          26.420877          14.647565   \n",
      "10        0.800265         48.0           9.788423           5.869591   \n",
      "11        0.837300        238.0          22.847365          12.491647   \n",
      "12        0.937127         46.0          12.222895           4.265660   \n",
      "13        0.836409         54.0          10.947742           6.000513   \n",
      "14        0.857775         50.0          10.822150           5.562852   \n",
      "15        0.933458         78.0          16.251671           5.829247   \n",
      "16        0.882388        101.0          15.638103           7.358079   \n",
      "17        0.899477         39.0          10.243255           4.475980   \n",
      "18        0.800100        268.0          22.235135          13.338112   \n",
      "19        0.867457        100.0          14.637704           7.282447   \n",
      "20        0.972911        223.0          31.482518           7.278085   \n",
      "21        0.904403        198.0          22.532061           9.613983   \n",
      "22        0.883906         27.0           8.103578           3.789759   \n",
      "23        0.803407         34.0           8.189432           4.876232   \n",
      "24        0.894764        138.0          18.281759           8.163507   \n",
      "25        0.913378         56.0          12.102466           4.927069   \n",
      "26        0.823280         47.0           9.988233           5.669674   \n",
      "27        0.836387         29.0           7.968730           4.367976   \n",
      "28        0.931127        225.0          26.118855           9.525399   \n",
      "29        0.816889         34.0           8.288528           4.780779   \n",
      "...            ...          ...                ...                ...   \n",
      "5537      0.935614         44.0          12.112242           4.275932   \n",
      "5538      0.941766         42.0          12.216701           4.108089   \n",
      "5539      0.908213         87.0          16.637041           6.962745   \n",
      "5540      0.932937         93.0          17.632573           6.348442   \n",
      "5541      0.923684         80.0          15.730950           6.027413   \n",
      "5542      0.929242        126.0          19.977381           7.381066   \n",
      "5543      0.910501        104.0          17.320980           7.162357   \n",
      "5544      0.912828        126.0          18.964264           7.743961   \n",
      "5545      0.913568         79.0          15.198992           6.181211   \n",
      "5546      0.902340        143.0          19.610204           8.452473   \n",
      "5547      0.924921        128.0          20.055443           7.624248   \n",
      "5548      0.903566        100.0          16.563224           7.096480   \n",
      "5549      0.962202        108.0          21.967196           5.982476   \n",
      "5550      0.902820         88.0          15.621284           6.717440   \n",
      "5551      0.921038         82.0          15.646913           6.094032   \n",
      "5552      0.957329         94.0          19.187976           5.545359   \n",
      "5553      0.985980         70.0          22.044109           3.678398   \n",
      "5554      0.951348         80.0          17.523367           5.399280   \n",
      "5555      0.925438         65.0          14.675762           5.560631   \n",
      "5556      0.903595         46.0          11.358784           4.865961   \n",
      "5557      0.921664         72.0          15.069486           5.846808   \n",
      "5558      0.904098         60.0          13.056562           5.579391   \n",
      "5559      0.976940         33.0          13.008914           2.777570   \n",
      "5560      0.923307         42.0          11.504993           4.418644   \n",
      "5561      0.921049         33.0           9.551241           3.719703   \n",
      "5562      0.953164         71.0          16.561164           5.009002   \n",
      "5563      0.937908         71.0          15.934500           5.527430   \n",
      "5564      0.914747         23.0           8.338929           3.369147   \n",
      "5565      0.964404         66.0          16.526198           4.370102   \n",
      "5566      0.940509         53.0          13.205543           4.486823   \n",
      "\n",
      "      orientation  \n",
      "0       -0.753764  \n",
      "1        0.267035  \n",
      "2       -0.701537  \n",
      "3       -0.019420  \n",
      "4       -0.118904  \n",
      "5       -1.163878  \n",
      "6        1.500031  \n",
      "7       -1.563205  \n",
      "8       -1.323550  \n",
      "9       -1.514956  \n",
      "10       1.220706  \n",
      "11       1.435187  \n",
      "12      -1.534686  \n",
      "13       1.404719  \n",
      "14      -1.409048  \n",
      "15       1.364151  \n",
      "16       1.497797  \n",
      "17       1.487070  \n",
      "18      -1.000739  \n",
      "19      -1.463644  \n",
      "20       1.559536  \n",
      "21       1.513964  \n",
      "22      -0.907459  \n",
      "23      -1.501997  \n",
      "24       1.522996  \n",
      "25       1.525601  \n",
      "26       0.014791  \n",
      "27       0.991237  \n",
      "28       0.915325  \n",
      "29       1.534701  \n",
      "...           ...  \n",
      "5537    -1.400083  \n",
      "5538     1.457794  \n",
      "5539    -1.440392  \n",
      "5540    -1.544727  \n",
      "5541    -1.517596  \n",
      "5542     1.373972  \n",
      "5543     0.965605  \n",
      "5544     1.439280  \n",
      "5545     1.365191  \n",
      "5546    -0.392269  \n",
      "5547     1.370066  \n",
      "5548    -1.485611  \n",
      "5549     1.567715  \n",
      "5550    -1.350012  \n",
      "5551     1.515007  \n",
      "5552     1.512100  \n",
      "5553     1.556064  \n",
      "5554     1.548503  \n",
      "5555    -1.507454  \n",
      "5556     1.409858  \n",
      "5557    -1.347778  \n",
      "5558    -1.417445  \n",
      "5559    -1.492221  \n",
      "5560    -1.429203  \n",
      "5561    -1.430011  \n",
      "5562    -1.296227  \n",
      "5563    -1.432543  \n",
      "5564    -1.407506  \n",
      "5565    -1.467950  \n",
      "5566    -1.481400  \n",
      "\n",
      "[5567 rows x 5 columns]\n"
     ]
    }
   ],
   "source": [
    "#X = pd.read_pickle('all_shear_rates')\n",
    "Y = X[['shear rate']].values.ravel()\n",
    "print(Y)\n",
    "X=X.drop(columns=['shear rate'])\n",
    "print(X)\n",
    "X_train,X_test,y_train,y_test=train_test_split(X,Y, test_size=0.3, random_state=31)"
   ]
  },
  {
   "cell_type": "code",
   "execution_count": 12,
   "metadata": {},
   "outputs": [
    {
     "name": "stdout",
     "output_type": "stream",
     "text": [
      "training score: 0.2598900951688322\n",
      "test score:  0.26121736555802266\n",
      "number of features used:  5\n"
     ]
    }
   ],
   "source": [
    "lasso = Lasso()\n",
    "lasso.fit(X_train,y_train)\n",
    "train_score=lasso.score(X_train,y_train)\n",
    "test_score=lasso.score(X_test,y_test)\n",
    "coeff_used = np.sum(lasso.coef_!=0)\n",
    "\n",
    "print(\"training score:\", train_score) \n",
    "print(\"test score: \", test_score)\n",
    "print (\"number of features used: \", coeff_used)"
   ]
  },
  {
   "cell_type": "code",
   "execution_count": 13,
   "metadata": {},
   "outputs": [
    {
     "name": "stdout",
     "output_type": "stream",
     "text": [
      "[18521.14094603 55643.04898761 68786.48041177 ... 56450.42834942\n",
      " 49172.24127206 63746.20161856]\n"
     ]
    }
   ],
   "source": [
    "y_pred = lasso.predict(X_test)\n",
    "print(y_pred)"
   ]
  },
  {
   "cell_type": "code",
   "execution_count": 14,
   "metadata": {},
   "outputs": [
    {
     "name": "stdout",
     "output_type": "stream",
     "text": [
      "[40000. 50000. 90000. ... 90000. 50000. 40000.]\n"
     ]
    }
   ],
   "source": [
    "print(y_test)"
   ]
  },
  {
   "cell_type": "code",
   "execution_count": 26,
   "metadata": {},
   "outputs": [
    {
     "data": {
      "image/png": "[encoded data removed]",
      "text/plain": [
       "<Figure size 432x288 with 1 Axes>"
      ]
     },
     "metadata": {
      "needs_background": "light"
     },
     "output_type": "display_data"
    }
   ],
   "source": [
    "fig,ax=plt.subplots()\n",
    "ax.plot(y_pred[:50], color=\"red\",)\n",
    "ax.plot(y_test[:50], color=\"blue\",)\n",
    "plt.show()"
   ]
  },
  {
   "cell_type": "code",
   "execution_count": null,
   "metadata": {},
   "outputs": [],
   "source": []
  }
 ],
 "metadata": {
  "kernelspec": {
   "display_name": "Python 3",
   "language": "python",
   "name": "python3"
  },
  "language_info": {
   "codemirror_mode": {
    "name": "ipython",
    "version": 3
   },
   "file_extension": ".py",
   "mimetype": "text/x-python",
   "name": "python",
   "nbconvert_exporter": "python",
   "pygments_lexer": "ipython3",
   "version": "3.7.3"
  }
 },
 "nbformat": 4,
 "nbformat_minor": 2
}
