{
 "cells": [
  {
   "cell_type": "code",
   "execution_count": 2,
   "metadata": {},
   "outputs": [],
   "source": [
    "import math \n",
    "import matplotlib.pyplot as plt \n",
    "import pandas as pd\n",
    "import numpy as np\n",
    "\n",
    "from sklearn.linear_model import Lasso\n",
    "from sklearn.linear_model import LinearRegression\n",
    "from sklearn.datasets import load_breast_cancer\n",
    "from sklearn.model_selection import train_test_split"
   ]
  },
  {
   "cell_type": "code",
   "execution_count": 3,
   "metadata": {},
   "outputs": [],
   "source": [
    "\n",
    "b = pd.read_pickle('shear_rate_10k')\n",
    "c = pd.read_pickle('shear_rate_20k')\n",
    "d = pd.read_pickle('shear_rate_25k')\n",
    "e = pd.read_pickle('shear_rate_30k')\n",
    "f = pd.read_pickle('shear_rate_40k')\n",
    "g = pd.read_pickle('shear_rate_50k')\n",
    "h = pd.read_pickle('shear_rate_90k')\n",
    "X=b\n",
    "for i in [c,d,e,f,g,h]:\n",
    "    X=X.append(i)\n",
    "X = X.reset_index(drop=True)\n",
    "#print(X)"
   ]
  },
  {
   "cell_type": "code",
   "execution_count": 4,
   "metadata": {},
   "outputs": [
    {
     "name": "stdout",
     "output_type": "stream",
     "text": [
      "[10000. 10000. 10000. ... 90000. 90000. 90000.]\n",
      "      eccentricity  convex_area  major_axis_length  minor_axis_length  \\\n",
      "0         0.925446         35.0          10.834082           4.104815   \n",
      "1         0.923904        196.0          23.916236           9.150916   \n",
      "2         0.859746         71.0          12.729776           6.501366   \n",
      "3         0.883813         37.0           9.661603           4.520088   \n",
      "4         0.802190         30.0           7.670469           4.579799   \n",
      "5         0.920629         56.0          13.057401           5.098105   \n",
      "6         0.804821         38.0           8.978874           5.329122   \n",
      "7         0.918068         51.0          12.508897           4.958800   \n",
      "8         0.831915         29.0           7.774565           4.314128   \n",
      "9         0.834018         46.0           9.991060           5.512435   \n",
      "10        0.897522         64.0          12.899924           5.688478   \n",
      "11        0.822086         36.0           8.806154           5.013896   \n",
      "12        0.905880        102.0          16.468326           6.974906   \n",
      "13        0.806544         29.0           7.411990           4.381780   \n",
      "14        0.931360        174.0          23.566310           8.580498   \n",
      "15        0.976289         90.0          22.225438           4.811191   \n",
      "16        0.933703        537.0          40.977597          14.671987   \n",
      "17        0.856798         36.0           9.163493           4.725175   \n",
      "18        0.889863         43.0          11.195719           5.107792   \n",
      "19        0.932423         37.0          10.725646           3.875918   \n",
      "20        0.801923         23.0           6.682236           3.992154   \n",
      "21        0.900649         27.0           8.595536           3.735167   \n",
      "22        0.815796         23.0           6.944835           4.016476   \n",
      "23        0.859539         47.0          10.140477           5.182493   \n",
      "24        0.923591        227.0          26.142058          10.022320   \n",
      "25        0.955285         85.0          18.322453           5.417728   \n",
      "26        0.898527        464.0          34.800385          15.274547   \n",
      "27        0.810381         53.0          10.327934           6.051174   \n",
      "28        0.939357         80.0          16.643103           5.707595   \n",
      "29        0.811765         43.0           9.194670           5.369545   \n",
      "...            ...          ...                ...                ...   \n",
      "5241      0.935614         44.0          12.112242           4.275932   \n",
      "5242      0.941766         42.0          12.216701           4.108089   \n",
      "5243      0.908213         87.0          16.637041           6.962745   \n",
      "5244      0.932937         93.0          17.632573           6.348442   \n",
      "5245      0.923684         80.0          15.730950           6.027413   \n",
      "5246      0.929242        126.0          19.977381           7.381066   \n",
      "5247      0.910501        104.0          17.320980           7.162357   \n",
      "5248      0.912828        126.0          18.964264           7.743961   \n",
      "5249      0.913568         79.0          15.198992           6.181211   \n",
      "5250      0.902340        143.0          19.610204           8.452473   \n",
      "5251      0.924921        128.0          20.055443           7.624248   \n",
      "5252      0.903566        100.0          16.563224           7.096480   \n",
      "5253      0.962202        108.0          21.967196           5.982476   \n",
      "5254      0.902820         88.0          15.621284           6.717440   \n",
      "5255      0.921038         82.0          15.646913           6.094032   \n",
      "5256      0.957329         94.0          19.187976           5.545359   \n",
      "5257      0.985980         70.0          22.044109           3.678398   \n",
      "5258      0.951348         80.0          17.523367           5.399280   \n",
      "5259      0.925438         65.0          14.675762           5.560631   \n",
      "5260      0.903595         46.0          11.358784           4.865961   \n",
      "5261      0.921664         72.0          15.069486           5.846808   \n",
      "5262      0.904098         60.0          13.056562           5.579391   \n",
      "5263      0.976940         33.0          13.008914           2.777570   \n",
      "5264      0.923307         42.0          11.504993           4.418644   \n",
      "5265      0.921049         33.0           9.551241           3.719703   \n",
      "5266      0.953164         71.0          16.561164           5.009002   \n",
      "5267      0.937908         71.0          15.934500           5.527430   \n",
      "5268      0.914747         23.0           8.338929           3.369147   \n",
      "5269      0.964404         66.0          16.526198           4.370102   \n",
      "5270      0.940509         53.0          13.205543           4.486823   \n",
      "\n",
      "      orientation  \n",
      "0       -1.315188  \n",
      "1       -1.526459  \n",
      "2       -1.486794  \n",
      "3       -0.850600  \n",
      "4       -0.033783  \n",
      "5       -1.517549  \n",
      "6       -1.566992  \n",
      "7       -1.421687  \n",
      "8        1.464415  \n",
      "9        1.440327  \n",
      "10       0.068112  \n",
      "11      -1.462626  \n",
      "12       1.302453  \n",
      "13      -1.570796  \n",
      "14       1.263153  \n",
      "15       1.460744  \n",
      "16       1.270903  \n",
      "17       1.547975  \n",
      "18       1.457634  \n",
      "19      -1.133040  \n",
      "20       1.540454  \n",
      "21       1.409136  \n",
      "22      -1.347566  \n",
      "23       1.336949  \n",
      "24      -1.564309  \n",
      "25       1.437363  \n",
      "26      -0.922442  \n",
      "27       1.548972  \n",
      "28       1.486584  \n",
      "29      -1.425144  \n",
      "...           ...  \n",
      "5241    -1.400083  \n",
      "5242     1.457794  \n",
      "5243    -1.440392  \n",
      "5244    -1.544727  \n",
      "5245    -1.517596  \n",
      "5246     1.373972  \n",
      "5247     0.965605  \n",
      "5248     1.439280  \n",
      "5249     1.365191  \n",
      "5250    -0.392269  \n",
      "5251     1.370066  \n",
      "5252    -1.485611  \n",
      "5253     1.567715  \n",
      "5254    -1.350012  \n",
      "5255     1.515007  \n",
      "5256     1.512100  \n",
      "5257     1.556064  \n",
      "5258     1.548503  \n",
      "5259    -1.507454  \n",
      "5260     1.409858  \n",
      "5261    -1.347778  \n",
      "5262    -1.417445  \n",
      "5263    -1.492221  \n",
      "5264    -1.429203  \n",
      "5265    -1.430011  \n",
      "5266    -1.296227  \n",
      "5267    -1.432543  \n",
      "5268    -1.407506  \n",
      "5269    -1.467950  \n",
      "5270    -1.481400  \n",
      "\n",
      "[5271 rows x 5 columns]\n"
     ]
    }
   ],
   "source": [
    "#X = pd.read_pickle('all_shear_rates')\n",
    "Y = X[['shear rate']].values.ravel()\n",
    "print(Y)\n",
    "X=X.drop(columns=['shear rate'])\n",
    "print(X)\n",
    "X_train,X_test,y_train,y_test=train_test_split(X,Y, test_size=0.3, random_state=31)"
   ]
  },
  {
   "cell_type": "code",
   "execution_count": 5,
   "metadata": {},
   "outputs": [
    {
     "name": "stdout",
     "output_type": "stream",
     "text": [
      "training score: 0.2559554328307475\n",
      "test score:  0.25212113737610653\n",
      "number of features used:  5\n"
     ]
    }
   ],
   "source": [
    "lasso = Lasso()\n",
    "lasso.fit(X_train,y_train)\n",
    "train_score=lasso.score(X_train,y_train)\n",
    "test_score=lasso.score(X_test,y_test)\n",
    "coeff_used = np.sum(lasso.coef_!=0)\n",
    "\n",
    "print(\"training score:\", train_score) \n",
    "print(\"test score: \", test_score)\n",
    "print (\"number of features used: \", coeff_used)"
   ]
  },
  {
   "cell_type": "code",
   "execution_count": 6,
   "metadata": {},
   "outputs": [
    {
     "name": "stdout",
     "output_type": "stream",
     "text": [
      "[59997.69740744 71576.11755539 31926.14839141 ... 25032.75465081\n",
      " 68149.2742338  40947.00235306]\n"
     ]
    }
   ],
   "source": [
    "y_pred = lasso.predict(X_test)\n",
    "print(y_pred)"
   ]
  },
  {
   "cell_type": "code",
   "execution_count": 7,
   "metadata": {},
   "outputs": [
    {
     "name": "stdout",
     "output_type": "stream",
     "text": [
      "[90000. 10000. 10000. ... 40000. 90000. 40000.]\n"
     ]
    }
   ],
   "source": [
    "print(y_test)"
   ]
  },
  {
   "cell_type": "code",
   "execution_count": 20,
   "metadata": {},
   "outputs": [
    {
     "data": {
      "image/png": "[encoded data removed]",
      "text/plain": [
       "<Figure size 1080x360 with 1 Axes>"
      ]
     },
     "metadata": {
      "needs_background": "light"
     },
     "output_type": "display_data"
    }
   ],
   "source": [
    "import random\n",
    "a=np.random.choice(y_pred, size=100)\n",
    "b=np.random.choice(y_test, size=100) \n",
    "\n",
    "plt.rcParams.update({'font.size': 15})\n",
    "plt.figure(figsize=(15,5))\n",
    "plt.plot(a, 'o', color='red', markersize=7, label='Prediction')\n",
    "plt.plot(b, 'o', color='black', markersize=4, label='Test')\n",
    "plt.legend(bbox_to_anchor=(0.97, 1.0))\n",
    "plt.xlabel('Count')\n",
    "plt.ylabel('Shear rate (/s)')\n",
    "\n",
    "plt.savefig('Regression.png')"
   ]
  },
  {
   "cell_type": "code",
   "execution_count": null,
   "metadata": {},
   "outputs": [],
   "source": []
  }
 ],
 "metadata": {
  "kernelspec": {
   "display_name": "Python 3",
   "language": "python",
   "name": "python3"
  },
  "language_info": {
   "codemirror_mode": {
    "name": "ipython",
    "version": 3
   },
   "file_extension": ".py",
   "mimetype": "text/x-python",
   "name": "python",
   "nbconvert_exporter": "python",
   "pygments_lexer": "ipython3",
   "version": "3.7.3"
  }
 },
 "nbformat": 4,
 "nbformat_minor": 2
}
