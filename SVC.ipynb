{
 "cells": [
  {
   "cell_type": "code",
   "execution_count": 1,
   "metadata": {},
   "outputs": [],
   "source": [
    "%matplotlib inline\n",
    "import numpy as np\n",
    "import pandas as pd\n",
    "import matplotlib.pyplot as plt\n",
    "import seaborn as sns; sns.set()\n",
    "from time import time\n",
    "import logging\n",
    "\n",
    "from sklearn.model_selection import train_test_split\n",
    "from sklearn.decomposition import PCA\n",
    "from sklearn.model_selection import GridSearchCV\n",
    "from sklearn.metrics import classification_report\n",
    "from sklearn.metrics import confusion_matrix\n",
    "from sklearn.svm import SVC"
   ]
  },
  {
   "cell_type": "code",
   "execution_count": 2,
   "metadata": {},
   "outputs": [],
   "source": [
    "a = pd.read_pickle('shear_rate_0k')\n",
    "b = pd.read_pickle('shear_rate_10k')\n",
    "c = pd.read_pickle('shear_rate_20k')\n",
    "d = pd.read_pickle('shear_rate_25k')\n",
    "e = pd.read_pickle('shear_rate_30k')\n",
    "f = pd.read_pickle('shear_rate_40k')\n",
    "g = pd.read_pickle('shear_rate_50k')\n",
    "h = pd.read_pickle('shear_rate_90k')\n",
    "X=a\n",
    "for i in [b,c,d,e,f,g,h]:\n",
    "    X=X.append(i)"
   ]
  },
  {
   "cell_type": "code",
   "execution_count": 3,
   "metadata": {},
   "outputs": [],
   "source": [
    "y = X[['shear rate']].values.ravel()\n",
    "#print(y)\n",
    "X=X.drop(columns=['shear rate'])\n",
    "#print(X)"
   ]
  },
  {
   "cell_type": "code",
   "execution_count": 4,
   "metadata": {},
   "outputs": [],
   "source": [
    "X_train, X_test, y_train, y_test = train_test_split(\n",
    "    X, y, test_size=0.25, random_state=42)"
   ]
  },
  {
   "cell_type": "code",
   "execution_count": 5,
   "metadata": {},
   "outputs": [
    {
     "data": {
      "text/plain": [
       "array([7, 1, 7, ..., 7, 7, 1])"
      ]
     },
     "execution_count": 5,
     "metadata": {},
     "output_type": "execute_result"
    }
   ],
   "source": [
    "from sklearn import preprocessing\n",
    "le = preprocessing.LabelEncoder()\n",
    "label=le.fit_transform(y_train)\n",
    "\n",
    "label"
   ]
  },
  {
   "cell_type": "code",
   "execution_count": 6,
   "metadata": {},
   "outputs": [],
   "source": [
    "import sklearn.preprocessing as pre\n",
    "\n",
    "x_scaler = pre.StandardScaler()\n",
    "scaled_x = x_scaler.fit_transform(X_train)"
   ]
  },
  {
   "cell_type": "code",
   "execution_count": 7,
   "metadata": {},
   "outputs": [
    {
     "name": "stdout",
     "output_type": "stream",
     "text": [
      "Fitting the classifier to the training set\n"
     ]
    }
   ],
   "source": [
    "# Train a SVM classification model\n",
    "\n",
    "print(\"Fitting the classifier to the training set\")\n",
    "#t0 = time()\n",
    "#param_grid = {'C': [5e2, 1e3, 5e3, 1e4, 5e4],\n",
    "#              'gamma': [0.001, 0.005, 0.01, 0.05, 0.1], }\n",
    "#clf = GridSearchCV(SVC(kernel='rbf', class_weight='balanced'),\n",
    "#                  param_grid, iid=False)\n",
    "#clf = clf.fit(scaled_x, label)\n",
    "#print(\"done in %0.3fs\" % (time() - t0))\n",
    "#print(\"Best estimator found by grid search:\")\n",
    "#print(clf.best_estimator_)\n",
    "\n",
    "clf = SVC(C=1e4, gamma=1e-2)\n",
    "clf = clf.fit(scaled_x, label)"
   ]
  },
  {
   "cell_type": "code",
   "execution_count": 8,
   "metadata": {},
   "outputs": [
    {
     "name": "stdout",
     "output_type": "stream",
     "text": [
      "Predicting shear rate on the test set\n",
      "done in 0.110s\n",
      "              precision    recall  f1-score   support\n",
      "\n",
      "           0       0.00      0.00      0.00        90\n",
      "           1       0.48      0.21      0.29       159\n",
      "           2       0.00      0.00      0.00        11\n",
      "           3       0.00      0.00      0.00        11\n",
      "           4       0.00      0.00      0.00       102\n",
      "           5       0.45      0.64      0.53       234\n",
      "           6       0.34      0.28      0.31       149\n",
      "           7       0.70      0.95      0.80       636\n",
      "\n",
      "    accuracy                           0.59      1392\n",
      "   macro avg       0.24      0.26      0.24      1392\n",
      "weighted avg       0.48      0.59      0.52      1392\n",
      "\n"
     ]
    },
    {
     "name": "stderr",
     "output_type": "stream",
     "text": [
      "/Users/wangyi/anaconda3/lib/python3.7/site-packages/sklearn/metrics/classification.py:1437: UndefinedMetricWarning: Precision and F-score are ill-defined and being set to 0.0 in labels with no predicted samples.\n",
      "  'precision', 'predicted', average, warn_for)\n"
     ]
    },
    {
     "data": {
      "image/png": "[encoded data removed]",
      "text/plain": [
       "<Figure size 432x288 with 1 Axes>"
      ]
     },
     "metadata": {
      "needs_background": "light"
     },
     "output_type": "display_data"
    }
   ],
   "source": [
    "print(\"Predicting shear rate on the test set\")\n",
    "t0 = time()\n",
    "y_pred = clf.predict(x_scaler.transform(X_test))\n",
    "print(\"done in %0.3fs\" % (time() - t0))\n",
    "\n",
    "print(classification_report(le.transform(y_test), y_pred))\n",
    "\n",
    "cm = confusion_matrix(le.transform(y_test), y_pred)\n",
    "\n",
    "shear_rate=np.array([0,10000,20000,25000,30000,40000,50000,90000])\n",
    "plt.clf()\n",
    "plt.imshow(cm, interpolation='nearest', cmap=plt.cm.viridis)\n",
    "plt.title('Class_Names')\n",
    "plt.ylabel('True label')\n",
    "plt.xlabel('Predicted label')\n",
    "tick_marks = np.arange(len(shear_rate))\n",
    "plt.xticks(tick_marks, shear_rate, rotation=45)\n",
    "plt.yticks(tick_marks, shear_rate)\n",
    "s = [['TN','FP'], ['FN', 'TP']]\n",
    "for i in range(2):\n",
    "    for j in range(2):\n",
    "        plt.text(j,i, str(s[i][j])+\" = \"+str(cm[i][j]))\n",
    "plt.show()"
   ]
  },
  {
   "cell_type": "code",
   "execution_count": 11,
   "metadata": {},
   "outputs": [
    {
     "data": {
      "text/plain": [
       "826"
      ]
     },
     "execution_count": 11,
     "metadata": {},
     "output_type": "execute_result"
    }
   ],
   "source": [
    "np.sum(le.transform(y_test)== y_pred)"
   ]
  },
  {
   "cell_type": "code",
   "execution_count": null,
   "metadata": {},
   "outputs": [],
   "source": [
    "# find PCA components\n",
    "from sklearn.preprocessing import normalize\n",
    "\n",
    "X = normalize(X) #standardscaler!!!!\n",
    "print(X)\n",
    "pca = PCA(n_components=5)\n",
    "pca.fit(X)\n",
    "\n",
    "print(pca.components_)\n",
    "print(pca.explained_variance_)"
   ]
  }
 ],
 "metadata": {
  "kernelspec": {
   "display_name": "Python 3",
   "language": "python",
   "name": "python3"
  },
  "language_info": {
   "codemirror_mode": {
    "name": "ipython",
    "version": 3
   },
   "file_extension": ".py",
   "mimetype": "text/x-python",
   "name": "python",
   "nbconvert_exporter": "python",
   "pygments_lexer": "ipython3",
   "version": "3.7.3"
  }
 },
 "nbformat": 4,
 "nbformat_minor": 2
}
