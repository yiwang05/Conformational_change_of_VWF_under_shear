{
 "cells": [
  {
   "cell_type": "code",
   "execution_count": 1,
   "metadata": {},
   "outputs": [],
   "source": [
    "import numpy as np\n",
    "import pandas as pd\n",
    "import matplotlib.pyplot as plt\n",
    "from time import time\n",
    "import logging\n",
    "\n",
    "from sklearn.model_selection import train_test_split\n",
    "from sklearn.decomposition import PCA\n",
    "from sklearn.model_selection import GridSearchCV\n",
    "from sklearn.metrics import classification_report\n",
    "from sklearn.metrics import confusion_matrix\n",
    "from sklearn.svm import SVC"
   ]
  },
  {
   "cell_type": "code",
   "execution_count": 2,
   "metadata": {},
   "outputs": [],
   "source": [
    "b = pd.read_pickle('shear_rate_10k')\n",
    "c = pd.read_pickle('shear_rate_20k')\n",
    "d = pd.read_pickle('shear_rate_25k')\n",
    "e = pd.read_pickle('shear_rate_30k')\n",
    "f = pd.read_pickle('shear_rate_40k')\n",
    "g = pd.read_pickle('shear_rate_50k')\n",
    "h = pd.read_pickle('shear_rate_90k')\n",
    "X=b\n",
    "for i in [c,d,e,f,g,h]:\n",
    "    X=X.append(i)"
   ]
  },
  {
   "cell_type": "code",
   "execution_count": 3,
   "metadata": {},
   "outputs": [],
   "source": [
    "y = X[['shear rate']].values.ravel()\n",
    "#print(y)\n",
    "X=X.drop(columns=['shear rate'])\n",
    "#print(X)"
   ]
  },
  {
   "cell_type": "code",
   "execution_count": 4,
   "metadata": {},
   "outputs": [],
   "source": [
    "X_train, X_test, y_train, y_test = train_test_split(\n",
    "    X, y, test_size=0.25, random_state=42)"
   ]
  },
  {
   "cell_type": "code",
   "execution_count": 5,
   "metadata": {},
   "outputs": [
    {
     "data": {
      "text/plain": [
       "array([6, 4, 6, ..., 6, 6, 3], dtype=int64)"
      ]
     },
     "execution_count": 5,
     "metadata": {},
     "output_type": "execute_result"
    }
   ],
   "source": [
    "from sklearn import preprocessing\n",
    "le = preprocessing.LabelEncoder()\n",
    "label=le.fit_transform(y_train)\n",
    "\n",
    "label"
   ]
  },
  {
   "cell_type": "code",
   "execution_count": 6,
   "metadata": {},
   "outputs": [],
   "source": [
    "import sklearn.preprocessing as pre\n",
    "\n",
    "x_scaler = pre.StandardScaler()\n",
    "scaled_x = x_scaler.fit_transform(X_train)"
   ]
  },
  {
   "cell_type": "code",
   "execution_count": 7,
   "metadata": {},
   "outputs": [
    {
     "name": "stdout",
     "output_type": "stream",
     "text": [
      "Fitting the classifier to the training set\n"
     ]
    }
   ],
   "source": [
    "# Train a SVM classification model\n",
    "\n",
    "print(\"Fitting the classifier to the training set\")\n",
    "#t0 = time()\n",
    "#param_grid = {'C': [5e2, 1e3, 5e3, 1e4, 5e4],\n",
    "#              'gamma': [0.001, 0.005, 0.01, 0.05, 0.1], }\n",
    "#clf = GridSearchCV(SVC(kernel='rbf', class_weight='balanced'),\n",
    "#                  param_grid, iid=False)\n",
    "#clf = clf.fit(scaled_x, label)\n",
    "#print(\"done in %0.3fs\" % (time() - t0))\n",
    "#print(\"Best estimator found by grid search:\")\n",
    "#print(clf.best_estimator_)\n",
    "\n",
    "clf = SVC(C=1e4, gamma=1e-2)\n",
    "clf = clf.fit(scaled_x, label)"
   ]
  },
  {
   "cell_type": "code",
   "execution_count": 23,
   "metadata": {},
   "outputs": [
    {
     "name": "stdout",
     "output_type": "stream",
     "text": [
      "Predicting shear rate on the test set\n",
      "done in 0.082s\n",
      "              precision    recall  f1-score   support\n",
      "\n",
      "           0       0.58      0.21      0.31       167\n",
      "           1       0.00      0.00      0.00        11\n",
      "           2       0.00      0.00      0.00        18\n",
      "           3       0.00      0.00      0.00       106\n",
      "           4       0.51      0.67      0.58       233\n",
      "           5       0.35      0.21      0.26       141\n",
      "           6       0.71      0.96      0.81       642\n",
      "\n",
      "    accuracy                           0.63      1318\n",
      "   macro avg       0.31      0.29      0.28      1318\n",
      "weighted avg       0.55      0.63      0.57      1318\n",
      "\n"
     ]
    },
    {
     "name": "stderr",
     "output_type": "stream",
     "text": [
      "C:\\ProgramData\\Anaconda3\\lib\\site-packages\\sklearn\\metrics\\classification.py:1437: UndefinedMetricWarning: Precision and F-score are ill-defined and being set to 0.0 in labels with no predicted samples.\n",
      "  'precision', 'predicted', average, warn_for)\n"
     ]
    }
   ],
   "source": [
    "print(\"Predicting shear rate on the test set\")\n",
    "t0 = time()\n",
    "y_pred = clf.predict(x_scaler.transform(X_test))\n",
    "print(\"done in %0.3fs\" % (time() - t0))\n",
    "\n",
    "print(classification_report(le.transform(y_test), y_pred))"
   ]
  },
  {
   "cell_type": "code",
   "execution_count": 29,
   "metadata": {},
   "outputs": [
    {
     "data": {
      "image/png": "[encoded data removed]",
      "text/plain": [
       "<Figure size 432x288 with 1 Axes>"
      ]
     },
     "metadata": {
      "needs_background": "light"
     },
     "output_type": "display_data"
    }
   ],
   "source": [
    "cm = confusion_matrix(le.transform(y_test), y_pred)\n",
    "\n",
    "shear_rate=np.array([10000,20000,25000,30000,40000,50000,90000])\n",
    "\n",
    "plt.rcParams.update({'font.size': 15})\n",
    "plt.imshow(cm, interpolation='nearest', cmap=plt.cm.viridis)\n",
    "plt.ylabel('True label')\n",
    "plt.xlabel('Predicted label')\n",
    "tick_marks = np.arange(len(shear_rate))\n",
    "plt.xticks(tick_marks, shear_rate, rotation=45)\n",
    "plt.yticks(tick_marks, shear_rate)\n",
    "plt.grid(color='w', linestyle='-', linewidth=1)\n",
    "plt.savefig('SVC_.png',bbox_inches='tight')\n",
    "plt.show()"
   ]
  },
  {
   "cell_type": "code",
   "execution_count": 9,
   "metadata": {},
   "outputs": [
    {
     "data": {
      "text/plain": [
       "835"
      ]
     },
     "execution_count": 9,
     "metadata": {},
     "output_type": "execute_result"
    }
   ],
   "source": [
    "np.sum(le.transform(y_test)== y_pred)"
   ]
  },
  {
   "cell_type": "code",
   "execution_count": 10,
   "metadata": {},
   "outputs": [
    {
     "data": {
      "text/plain": [
       "483"
      ]
     },
     "execution_count": 10,
     "metadata": {},
     "output_type": "execute_result"
    }
   ],
   "source": [
    "np.sum(le.transform(y_test)!= y_pred)"
   ]
  },
  {
   "cell_type": "code",
   "execution_count": 18,
   "metadata": {
    "scrolled": true
   },
   "outputs": [
    {
     "data": {
      "image/png": "[encoded data removed]",
      "text/plain": [
       "<Figure size 1080x360 with 1 Axes>"
      ]
     },
     "metadata": {
      "needs_background": "light"
     },
     "output_type": "display_data"
    }
   ],
   "source": [
    "import random\n",
    "a=np.random.choice(y_pred, size=100)\n",
    "b=np.random.choice(le.transform(y_test), size=100) \n",
    "\n",
    "plt.rcParams.update({'font.size': 15})\n",
    "plt.figure(figsize=(15,5))\n",
    "plt.plot(a, 'o', color='red', markersize=7, label='Prediction')\n",
    "plt.plot(b, 'o', color='black', markersize=4, label='Test')\n",
    "plt.legend(bbox_to_anchor=(0.97, 1.0))\n",
    "plt.xlabel('Count')\n",
    "plt.ylabel('Shear rate (/s)')\n",
    "plt.yticks(tick_marks, shear_rate)\n",
    "plt.savefig('SVC.png')"
   ]
  },
  {
   "cell_type": "code",
   "execution_count": null,
   "metadata": {},
   "outputs": [],
   "source": []
  }
 ],
 "metadata": {
  "kernelspec": {
   "display_name": "Python 3",
   "language": "python",
   "name": "python3"
  },
  "language_info": {
   "codemirror_mode": {
    "name": "ipython",
    "version": 3
   },
   "file_extension": ".py",
   "mimetype": "text/x-python",
   "name": "python",
   "nbconvert_exporter": "python",
   "pygments_lexer": "ipython3",
   "version": "3.7.3"
  }
 },
 "nbformat": 4,
 "nbformat_minor": 2
}
