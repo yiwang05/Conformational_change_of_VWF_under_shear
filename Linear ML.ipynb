{
 "cells": [
  {
   "cell_type": "code",
   "execution_count": 1,
   "metadata": {},
   "outputs": [],
   "source": [
    "%matplotlib inline\n",
    "import numpy as np\n",
    "import pandas as pd\n",
    "import matplotlib.pyplot as plt\n",
    "import seaborn as sns; sns.set()\n",
    "from time import time\n",
    "import logging\n",
    "\n",
    "from sklearn.model_selection import train_test_split\n",
    "from sklearn.decomposition import PCA\n",
    "from sklearn.model_selection import GridSearchCV\n",
    "from sklearn.metrics import classification_report\n",
    "from sklearn.metrics import confusion_matrix\n",
    "from sklearn.svm import SVC"
   ]
  },
  {
   "cell_type": "code",
   "execution_count": 2,
   "metadata": {},
   "outputs": [],
   "source": [
    "a = pd.read_pickle('shear_rate_0k')\n",
    "b = pd.read_pickle('shear_rate_10k')\n",
    "c = pd.read_pickle('shear_rate_20k')\n",
    "d = pd.read_pickle('shear_rate_25k')\n",
    "e = pd.read_pickle('shear_rate_30k')\n",
    "f = pd.read_pickle('shear_rate_40k')\n",
    "g = pd.read_pickle('shear_rate_50k')\n",
    "h = pd.read_pickle('shear_rate_90k')\n",
    "X=a\n",
    "for i in [b,c,d,e,f,g,h]:\n",
    "    X=X.append(i)"
   ]
  },
  {
   "cell_type": "code",
   "execution_count": 43,
   "metadata": {},
   "outputs": [
    {
     "name": "stdout",
     "output_type": "stream",
     "text": [
      "(296, 6)\n",
      "(589, 6)\n",
      "(44, 6)\n",
      "(66, 6)\n",
      "(411, 6)\n",
      "(979, 6)\n",
      "(586, 6)\n",
      "(2596, 6)\n"
     ]
    }
   ],
   "source": [
    "num_examples = []\n",
    "for i in [a,b,c,d,e,f,g,h]:\n",
    "    num_examples.append(a.shape[0])\n",
    "    print(i.shape)"
   ]
  },
  {
   "cell_type": "code",
   "execution_count": 3,
   "metadata": {},
   "outputs": [
    {
     "name": "stdout",
     "output_type": "stream",
     "text": [
      "[    0.     0.     0. ... 90000. 90000. 90000.]\n",
      "      eccentricity  convex_area  major_axis_length  minor_axis_length  \\\n",
      "0         0.825802         31.0           8.134746           4.587675   \n",
      "1         0.805504         53.0          10.428318           6.179722   \n",
      "2         0.837421         28.0           7.793800           4.259762   \n",
      "3         0.802286         31.0           7.839319           4.679603   \n",
      "4         0.861723         31.0           8.306929           4.214755   \n",
      "5         0.892727         22.0           7.595454           3.422503   \n",
      "6         0.876329         44.0          10.282629           4.953271   \n",
      "7         0.891431         61.0          12.527890           5.677103   \n",
      "8         0.861284         40.0           9.533924           4.844416   \n",
      "9         0.832255        332.0          26.420877          14.647565   \n",
      "10        0.800265         48.0           9.788423           5.869591   \n",
      "11        0.837300        238.0          22.847365          12.491647   \n",
      "12        0.937127         46.0          12.222895           4.265660   \n",
      "13        0.836409         54.0          10.947742           6.000513   \n",
      "14        0.857775         50.0          10.822150           5.562852   \n",
      "15        0.933458         78.0          16.251671           5.829247   \n",
      "16        0.882388        101.0          15.638103           7.358079   \n",
      "17        0.899477         39.0          10.243255           4.475980   \n",
      "18        0.800100        268.0          22.235135          13.338112   \n",
      "19        0.867457        100.0          14.637704           7.282447   \n",
      "20        0.972911        223.0          31.482518           7.278085   \n",
      "21        0.904403        198.0          22.532061           9.613983   \n",
      "22        0.883906         27.0           8.103578           3.789759   \n",
      "23        0.803407         34.0           8.189432           4.876232   \n",
      "24        0.894764        138.0          18.281759           8.163507   \n",
      "25        0.913378         56.0          12.102466           4.927069   \n",
      "26        0.823280         47.0           9.988233           5.669674   \n",
      "27        0.836387         29.0           7.968730           4.367976   \n",
      "28        0.931127        225.0          26.118855           9.525399   \n",
      "29        0.816889         34.0           8.288528           4.780779   \n",
      "...            ...          ...                ...                ...   \n",
      "2566      0.935614         44.0          12.112242           4.275932   \n",
      "2567      0.941766         42.0          12.216701           4.108089   \n",
      "2568      0.908213         87.0          16.637041           6.962745   \n",
      "2569      0.932937         93.0          17.632573           6.348442   \n",
      "2570      0.923684         80.0          15.730950           6.027413   \n",
      "2571      0.929242        126.0          19.977381           7.381066   \n",
      "2572      0.910501        104.0          17.320980           7.162357   \n",
      "2573      0.912828        126.0          18.964264           7.743961   \n",
      "2574      0.913568         79.0          15.198992           6.181211   \n",
      "2575      0.902340        143.0          19.610204           8.452473   \n",
      "2576      0.924921        128.0          20.055443           7.624248   \n",
      "2577      0.903566        100.0          16.563224           7.096480   \n",
      "2578      0.962202        108.0          21.967196           5.982476   \n",
      "2579      0.902820         88.0          15.621284           6.717440   \n",
      "2580      0.921038         82.0          15.646913           6.094032   \n",
      "2581      0.957329         94.0          19.187976           5.545359   \n",
      "2582      0.985980         70.0          22.044109           3.678398   \n",
      "2583      0.951348         80.0          17.523367           5.399280   \n",
      "2584      0.925438         65.0          14.675762           5.560631   \n",
      "2585      0.903595         46.0          11.358784           4.865961   \n",
      "2586      0.921664         72.0          15.069486           5.846808   \n",
      "2587      0.904098         60.0          13.056562           5.579391   \n",
      "2588      0.976940         33.0          13.008914           2.777570   \n",
      "2589      0.923307         42.0          11.504993           4.418644   \n",
      "2590      0.921049         33.0           9.551241           3.719703   \n",
      "2591      0.953164         71.0          16.561164           5.009002   \n",
      "2592      0.937908         71.0          15.934500           5.527430   \n",
      "2593      0.914747         23.0           8.338929           3.369147   \n",
      "2594      0.964404         66.0          16.526198           4.370102   \n",
      "2595      0.940509         53.0          13.205543           4.486823   \n",
      "\n",
      "      orientation  \n",
      "0       -0.753764  \n",
      "1        0.267035  \n",
      "2       -0.701537  \n",
      "3       -0.019420  \n",
      "4       -0.118904  \n",
      "5       -1.163878  \n",
      "6        1.500031  \n",
      "7       -1.563205  \n",
      "8       -1.323550  \n",
      "9       -1.514956  \n",
      "10       1.220706  \n",
      "11       1.435187  \n",
      "12      -1.534686  \n",
      "13       1.404719  \n",
      "14      -1.409048  \n",
      "15       1.364151  \n",
      "16       1.497797  \n",
      "17       1.487070  \n",
      "18      -1.000739  \n",
      "19      -1.463644  \n",
      "20       1.559536  \n",
      "21       1.513964  \n",
      "22      -0.907459  \n",
      "23      -1.501997  \n",
      "24       1.522996  \n",
      "25       1.525601  \n",
      "26       0.014791  \n",
      "27       0.991237  \n",
      "28       0.915325  \n",
      "29       1.534701  \n",
      "...           ...  \n",
      "2566    -1.400083  \n",
      "2567     1.457794  \n",
      "2568    -1.440392  \n",
      "2569    -1.544727  \n",
      "2570    -1.517596  \n",
      "2571     1.373972  \n",
      "2572     0.965605  \n",
      "2573     1.439280  \n",
      "2574     1.365191  \n",
      "2575    -0.392269  \n",
      "2576     1.370066  \n",
      "2577    -1.485611  \n",
      "2578     1.567715  \n",
      "2579    -1.350012  \n",
      "2580     1.515007  \n",
      "2581     1.512100  \n",
      "2582     1.556064  \n",
      "2583     1.548503  \n",
      "2584    -1.507454  \n",
      "2585     1.409858  \n",
      "2586    -1.347778  \n",
      "2587    -1.417445  \n",
      "2588    -1.492221  \n",
      "2589    -1.429203  \n",
      "2590    -1.430011  \n",
      "2591    -1.296227  \n",
      "2592    -1.432543  \n",
      "2593    -1.407506  \n",
      "2594    -1.467950  \n",
      "2595    -1.481400  \n",
      "\n",
      "[5567 rows x 5 columns]\n"
     ]
    }
   ],
   "source": [
    "y = X[['shear rate']].values.ravel()\n",
    "print(y)\n",
    "X=X.drop(columns=['shear rate'])\n",
    "print(X)"
   ]
  },
  {
   "cell_type": "code",
   "execution_count": 5,
   "metadata": {},
   "outputs": [
    {
     "data": {
      "text/plain": [
       "(5567,)"
      ]
     },
     "execution_count": 5,
     "metadata": {},
     "output_type": "execute_result"
    }
   ],
   "source": [
    "y.shape"
   ]
  },
  {
   "cell_type": "code",
   "execution_count": 4,
   "metadata": {},
   "outputs": [],
   "source": [
    "X_train, X_test, y_train, y_test = train_test_split(\n",
    "    X, y, test_size=0.25, random_state=42)"
   ]
  },
  {
   "cell_type": "code",
   "execution_count": 7,
   "metadata": {},
   "outputs": [
    {
     "name": "stdout",
     "output_type": "stream",
     "text": [
      "      eccentricity  convex_area  major_axis_length  minor_axis_length  \\\n",
      "1092      0.905070        119.0          18.330853           7.795430   \n",
      "289       0.940246         61.0          14.082384           4.795000   \n",
      "441       0.926173        421.0          35.024847          13.207819   \n",
      "2307      0.934172         69.0          15.823533           5.646210   \n",
      "1927      0.912538         42.0          11.050412           4.519536   \n",
      "481       0.886487         24.0           7.723006           3.573850   \n",
      "346       0.972917         50.0          16.464599           3.805901   \n",
      "23        0.922084         46.0          11.924907           4.614823   \n",
      "775       0.902554         35.0           9.887754           4.257442   \n",
      "2071      0.907272         52.0          12.296468           5.171200   \n",
      "1210      0.953362         70.0          16.667375           5.030692   \n",
      "870       0.910679         30.0           9.236043           3.815540   \n",
      "26        0.866831         63.0          12.123203           6.044664   \n",
      "2374      0.906636         85.0          15.461414           6.523373   \n",
      "221       0.892617        123.0          17.774687           8.013093   \n",
      "2552      0.950610        120.0          21.413163           6.646402   \n",
      "846       0.936855         22.0           8.625579           3.016519   \n",
      "130       0.969708        100.0          21.009474           5.131934   \n",
      "217       0.878328        223.0          23.193906          11.088043   \n",
      "858       0.961525         21.0           9.306903           2.556777   \n",
      "438       0.886316         23.0           7.756783           3.592021   \n",
      "416       0.883445         74.0          13.810842           6.470852   \n",
      "523       0.918785        284.0          29.655097          11.706564   \n",
      "232       0.903558         39.0          10.621994           4.551161   \n",
      "57        0.986574         88.0          25.316026           4.134453   \n",
      "2207      0.912327         86.0          15.563846           6.372799   \n",
      "463       0.912840        202.0          22.869401           9.337954   \n",
      "315       0.937919        163.0          23.014367           7.982647   \n",
      "15        0.837807         60.0          11.482128           6.268851   \n",
      "214       0.875735         55.0          11.690297           5.643978   \n",
      "...            ...          ...                ...                ...   \n",
      "362       0.895443        151.0          19.686507           8.763954   \n",
      "641       0.904785         40.0          10.538310           4.487934   \n",
      "173       0.957031         26.0           9.922678           2.877444   \n",
      "87        0.815797        255.0          22.731863          13.146699   \n",
      "178       0.945620        128.0          21.575090           7.017810   \n",
      "519       0.891763        162.0          20.207107           9.143775   \n",
      "1872      0.976944         42.0          14.432717           3.081323   \n",
      "1146      0.950572         23.0           9.383139           2.913512   \n",
      "414       0.962658        121.0          23.524834           6.368692   \n",
      "1584      0.981826         36.0          14.736759           2.796787   \n",
      "189       0.853254         78.0          13.411730           6.994155   \n",
      "2080      0.957070        192.0          27.412732           7.945727   \n",
      "2340      0.912889        487.0          37.304681          15.228068   \n",
      "48        0.866677        119.0          16.074872           8.019265   \n",
      "6         0.911907         89.0          15.410318           6.324350   \n",
      "473       0.971966        141.0          26.207131           6.161899   \n",
      "279       0.814075        129.0          15.728595           9.134540   \n",
      "130       0.877758         33.0           8.937161           4.281828   \n",
      "534       0.863680         33.0           8.821896           4.446600   \n",
      "200       0.917940        186.0          23.446295           9.301608   \n",
      "473       0.958440        189.0          27.474993           7.838439   \n",
      "1455      0.912103         84.0          15.351898           6.293673   \n",
      "2363      0.911476         58.0          12.989512           5.343283   \n",
      "170       0.955809         91.0          18.518684           5.444269   \n",
      "121       0.913898        201.0          23.282770           9.451499   \n",
      "801       0.922289        293.0          30.444859          11.766978   \n",
      "2220      0.912905        364.0          32.802492          13.389081   \n",
      "2255      0.908216         79.0          14.862770           6.220111   \n",
      "2419      0.953488         33.0          12.098502           3.646877   \n",
      "564       0.947540        133.0          21.414133           6.844779   \n",
      "\n",
      "      orientation  \n",
      "1092     1.425389  \n",
      "289     -1.547973  \n",
      "441      1.258649  \n",
      "2307    -1.264303  \n",
      "1927    -1.358733  \n",
      "481     -1.440046  \n",
      "346      1.548079  \n",
      "23      -1.494994  \n",
      "775     -1.319827  \n",
      "2071     1.503414  \n",
      "1210     1.522602  \n",
      "870     -1.275676  \n",
      "26      -1.487694  \n",
      "2374    -1.481202  \n",
      "221     -0.543121  \n",
      "2552    -1.069996  \n",
      "846     -1.245983  \n",
      "130     -1.469404  \n",
      "217      1.497685  \n",
      "858     -1.191913  \n",
      "438     -1.553906  \n",
      "416     -1.250660  \n",
      "523      1.178526  \n",
      "232     -1.404585  \n",
      "57      -1.412436  \n",
      "2207     1.261527  \n",
      "463     -1.570294  \n",
      "315      0.787311  \n",
      "15      -1.491961  \n",
      "214     -1.557300  \n",
      "...           ...  \n",
      "362     -1.449905  \n",
      "641     -1.234147  \n",
      "173     -1.437670  \n",
      "87       1.514308  \n",
      "178     -1.086095  \n",
      "519     -1.492431  \n",
      "1872    -1.433079  \n",
      "1146     1.304313  \n",
      "414     -1.541877  \n",
      "1584     1.486624  \n",
      "189     -1.169014  \n",
      "2080     1.386452  \n",
      "2340     1.286503  \n",
      "48       1.320681  \n",
      "6       -1.471893  \n",
      "473      1.545859  \n",
      "279     -0.964293  \n",
      "130     -0.009894  \n",
      "534      0.890716  \n",
      "200      1.535330  \n",
      "473      0.684516  \n",
      "1455     0.435698  \n",
      "2363     1.315140  \n",
      "170      1.534257  \n",
      "121     -1.494223  \n",
      "801     -0.894622  \n",
      "2220    -1.346504  \n",
      "2255     1.513339  \n",
      "2419    -1.400027  \n",
      "564     -1.505577  \n",
      "\n",
      "[4175 rows x 5 columns]\n"
     ]
    }
   ],
   "source": [
    "print(X_train)"
   ]
  },
  {
   "cell_type": "code",
   "execution_count": 39,
   "metadata": {},
   "outputs": [
    {
     "name": "stdout",
     "output_type": "stream",
     "text": [
      "Fitting the classifier to the training set\n"
     ]
    }
   ],
   "source": [
    "# Train a SVM classification model\n",
    "\n",
    "\n",
    "#do grid search!!!!!!!\n",
    "print(\"Fitting the classifier to the training set\")\n",
    "t0 = time()\n",
    "param_grid = {'C': [1e4],\n",
    "              'gamma': [0.001], }\n",
    "#clf = GridSearchCV(SVC(kernel='rbf', class_weight='balanced'),\n",
    "#                   param_grid, cv=2, iid=False)\n",
    "clf = SVC(C=1e4, gamma=1e-3)\n",
    "clf = clf.fit(scaled_x, label)\n",
    "#print(\"done in %0.3fs\" % (time() - t0))\n",
    "#print(\"Best estimator found by grid search:\")\n",
    "#print(clf.best_estimator_)"
   ]
  },
  {
   "cell_type": "code",
   "execution_count": 6,
   "metadata": {},
   "outputs": [
    {
     "data": {
      "text/plain": [
       "array([7, 1, 7, ..., 7, 7, 1])"
      ]
     },
     "execution_count": 6,
     "metadata": {},
     "output_type": "execute_result"
    }
   ],
   "source": [
    "from sklearn import preprocessing\n",
    "le = preprocessing.LabelEncoder()\n",
    "label=le.fit_transform(y_train)\n",
    "\n",
    "label"
   ]
  },
  {
   "cell_type": "code",
   "execution_count": 7,
   "metadata": {},
   "outputs": [],
   "source": [
    "import sklearn.preprocessing as pre\n",
    "\n",
    "x_scaler = pre.StandardScaler()\n",
    "scaled_x = x_scaler.fit_transform(X_train)"
   ]
  },
  {
   "cell_type": "code",
   "execution_count": 59,
   "metadata": {},
   "outputs": [
    {
     "name": "stdout",
     "output_type": "stream",
     "text": [
      "Predicting shear rate on the test set\n",
      "done in 0.110s\n",
      "              precision    recall  f1-score   support\n",
      "\n",
      "           0       0.00      0.00      0.00        90\n",
      "           1       0.44      0.19      0.27       159\n",
      "           2       0.00      0.00      0.00        11\n",
      "           3       0.00      0.00      0.00        11\n",
      "           4       0.00      0.00      0.00       102\n",
      "           5       0.43      0.55      0.48       234\n",
      "           6       0.34      0.27      0.30       149\n",
      "           7       0.67      0.96      0.79       636\n",
      "\n",
      "    accuracy                           0.58      1392\n",
      "   macro avg       0.23      0.25      0.23      1392\n",
      "weighted avg       0.47      0.58      0.51      1392\n",
      "\n"
     ]
    },
    {
     "name": "stderr",
     "output_type": "stream",
     "text": [
      "/Users/wangyi/anaconda3/lib/python3.7/site-packages/sklearn/metrics/classification.py:1437: UndefinedMetricWarning: Precision and F-score are ill-defined and being set to 0.0 in labels with no predicted samples.\n",
      "  'precision', 'predicted', average, warn_for)\n"
     ]
    },
    {
     "data": {
      "image/png": "[encoded data removed]",
      "text/plain": [
       "<Figure size 432x288 with 1 Axes>"
      ]
     },
     "metadata": {
      "needs_background": "light"
     },
     "output_type": "display_data"
    }
   ],
   "source": [
    "print(\"Predicting shear rate on the test set\")\n",
    "t0 = time()\n",
    "y_pred = clf.predict(x_scaler.transform(X_test))\n",
    "print(\"done in %0.3fs\" % (time() - t0))\n",
    "\n",
    "print(classification_report(le.transform(y_test), y_pred))\n",
    "\n",
    "cm = confusion_matrix(le.transform(y_test), y_pred, labels=range(n_classes))\n",
    "\n",
    "plt.clf()\n",
    "plt.imshow(cm, interpolation='nearest', cmap=plt.cm.viridis)\n",
    "plt.title('Class_Names')\n",
    "plt.ylabel('True label')\n",
    "plt.xlabel('Predicted label')\n",
    "tick_marks = np.arange(len(shear_rate))\n",
    "plt.xticks(tick_marks, shear_rate, rotation=45)\n",
    "plt.yticks(tick_marks, shear_rate)\n",
    "s = [['TN','FP'], ['FN', 'TP']]\n",
    "for i in range(2):\n",
    "    for j in range(2):\n",
    "        plt.text(j,i, str(s[i][j])+\" = \"+str(cm[i][j]))\n",
    "plt.show()"
   ]
  },
  {
   "cell_type": "code",
   "execution_count": 54,
   "metadata": {},
   "outputs": [
    {
     "data": {
      "text/plain": [
       "809"
      ]
     },
     "execution_count": 54,
     "metadata": {},
     "output_type": "execute_result"
    }
   ],
   "source": [
    "np.sum(le.transform(y_test)== y_pred)"
   ]
  },
  {
   "cell_type": "code",
   "execution_count": 48,
   "metadata": {},
   "outputs": [],
   "source": [
    "num_examples =[]\n",
    "for i in range(7):\n",
    "    num_examples.append(np.sum(le.transform(y_test)==i))"
   ]
  },
  {
   "cell_type": "code",
   "execution_count": 49,
   "metadata": {},
   "outputs": [
    {
     "data": {
      "text/plain": [
       "[90, 159, 11, 11, 102, 234, 149]"
      ]
     },
     "execution_count": 49,
     "metadata": {},
     "output_type": "execute_result"
    }
   ],
   "source": [
    "num_examples"
   ]
  },
  {
   "cell_type": "code",
   "execution_count": 8,
   "metadata": {},
   "outputs": [
    {
     "name": "stdout",
     "output_type": "stream",
     "text": [
      "[[ 0.02549122  0.95692187  0.25110697  0.14161441 -0.02326753]\n",
      " [ 0.01481382  0.97470963  0.19178456  0.11364971  0.00491098]\n",
      " [ 0.0284883   0.95253397  0.26513783  0.14491314 -0.02386565]\n",
      " ...\n",
      " [ 0.03695514  0.92918355  0.33688677  0.13611112 -0.05686222]\n",
      " [ 0.01414073  0.9677359   0.24231811  0.06407735 -0.02152407]\n",
      " [ 0.01715242  0.966581    0.24083448  0.08182789 -0.02701685]]\n",
      "[[ 0.1170242  -0.24105976  0.90732678  0.31682121 -0.06766067]\n",
      " [-0.01510257 -0.00874569  0.10412005 -0.08771986  0.99053504]\n",
      " [-0.09153853 -0.03182692  0.32091487 -0.93469452 -0.11818436]\n",
      " [ 0.38652281 -0.8825146  -0.24976502 -0.09556655  0.01589217]\n",
      " [-0.91010882 -0.40245338 -0.02341395  0.09561764 -0.00650082]]\n",
      "[6.44914141e-03 6.04859387e-04 4.16226968e-04 2.03493505e-05\n",
      " 1.55159655e-06]\n"
     ]
    }
   ],
   "source": [
    "# find PCA components\n",
    "from sklearn.preprocessing import normalize\n",
    "\n",
    "X = normalize(X) #standardscaler!!!!\n",
    "print(X)\n",
    "pca = PCA(n_components=5)\n",
    "pca.fit(X)\n",
    "\n",
    "print(pca.components_)\n",
    "print(pca.explained_variance_)"
   ]
  },
  {
   "cell_type": "code",
   "execution_count": 9,
   "metadata": {},
   "outputs": [
    {
     "name": "stdout",
     "output_type": "stream",
     "text": [
      "Extracting the top 5 stretched_molecules from 4175 molecules\n",
      "done in 0.022s\n",
      "Projecting the input data on the eigenfaces orthonormal basis\n",
      "done in 0.004s\n"
     ]
    }
   ],
   "source": [
    "# Compute a PCA on the face dataset (treated as unlabeled\n",
    "# dataset): unsupervised feature extraction / dimensionality reduction\n",
    "n_components = 5\n",
    "\n",
    "print(\"Extracting the top %d stretched_molecules from %d molecules\"\n",
    "      % (n_components, X_train.shape[0]))\n",
    "t0 = time()\n",
    "pca = PCA(n_components=n_components, svd_solver='randomized',\n",
    "          whiten=True).fit(X_train)\n",
    "print(\"done in %0.3fs\" % (time() - t0))\n",
    "\n",
    "print(\"Projecting the input data on the eigenfaces orthonormal basis\")\n",
    "t0 = time()\n",
    "X_train_pca = pca.transform(X_train)\n",
    "X_test_pca = pca.transform(X_test)\n",
    "print(\"done in %0.3fs\" % (time() - t0))"
   ]
  },
  {
   "cell_type": "code",
   "execution_count": null,
   "metadata": {},
   "outputs": [],
   "source": [
    "# Train a SVM classification model\n",
    "\n",
    "print(\"Fitting the classifier to the training set\")\n",
    "t0 = time()\n",
    "clf = SVC(C=1e4, gamma=1e-3)\n",
    "clf = clf.fit(scaled_x, label)\n",
    "print(\"done in %0.3fs\" % (time() - t0))\n",
    "print(\"Best estimator found by grid search:\")\n",
    "print(clf.best_estimator_)"
   ]
  },
  {
   "cell_type": "code",
   "execution_count": null,
   "metadata": {},
   "outputs": [],
   "source": [
    "print(\"Predicting people's names on the test set\")\n",
    "t0 = time()\n",
    "y_pred = clf.predict(X_test_pca)\n",
    "print(\"done in %0.3fs\" % (time() - t0))\n",
    "\n",
    "#print(classification_report(y_test, y_pred, target_names=shear_rate))\n",
    "\n",
    "\n",
    "cm = confusion_matrix(le.transform(y_test), y_pred, labels=range(n_classes))\n",
    "\n",
    "plt.clf()\n",
    "plt.imshow(cm, interpolation='nearest', cmap=plt.cm.viridis)\n",
    "plt.title('Class_Names')\n",
    "plt.ylabel('True label')\n",
    "plt.xlabel('Predicted label')\n",
    "tick_marks = np.arange(len(target_names))\n",
    "plt.xticks(tick_marks, target_names, rotation=45)\n",
    "plt.yticks(tick_marks, target_names)\n",
    "plt.show()\n"
   ]
  },
  {
   "cell_type": "code",
   "execution_count": 22,
   "metadata": {},
   "outputs": [
    {
     "name": "stdout",
     "output_type": "stream",
     "text": [
      "[30000. 10000. 10000. ... 90000. 50000. 90000.]\n"
     ]
    }
   ],
   "source": [
    "print(y_test)"
   ]
  },
  {
   "cell_type": "code",
   "execution_count": 23,
   "metadata": {},
   "outputs": [
    {
     "name": "stdout",
     "output_type": "stream",
     "text": [
      "[90000. 25000. 25000. ... 90000. 90000. 90000.]\n"
     ]
    }
   ],
   "source": [
    "print(y_pred)"
   ]
  },
  {
   "cell_type": "code",
   "execution_count": null,
   "metadata": {},
   "outputs": [],
   "source": []
  }
 ],
 "metadata": {
  "kernelspec": {
   "display_name": "Python 3",
   "language": "python",
   "name": "python3"
  },
  "language_info": {
   "codemirror_mode": {
    "name": "ipython",
    "version": 3
   },
   "file_extension": ".py",
   "mimetype": "text/x-python",
   "name": "python",
   "nbconvert_exporter": "python",
   "pygments_lexer": "ipython3",
   "version": "3.7.3"
  }
 },
 "nbformat": 4,
 "nbformat_minor": 2
}
